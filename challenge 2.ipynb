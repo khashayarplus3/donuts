{
 "cells": [
  {
   "cell_type": "code",
   "execution_count": 51,
   "id": "00dffc25",
   "metadata": {},
   "outputs": [
    {
     "name": "stdout",
     "output_type": "stream",
     "text": [
      "1170593\n",
      "446309.0465116279\n",
      "<class 'pandas.core.frame.DataFrame'>\n",
      "RangeIndex: 86 entries, 0 to 85\n",
      "Data columns (total 2 columns):\n",
      " #   Column         Non-Null Count  Dtype \n",
      "---  ------         --------------  ----- \n",
      " 0   d              86 non-null     object\n",
      " 1   Profit/Losses  86 non-null     int64 \n",
      "dtypes: int64(1), object(1)\n",
      "memory usage: 1.5+ KB\n"
     ]
    }
   ],
   "source": [
    "import pandas as pd\n",
    "\n",
    "import csv \n",
    "\n",
    "import matplotlib\n",
    "\n",
    "import os\n",
    "\n",
    "os.getcwd()\n",
    "import numpy as np\n",
    "\n",
    "\n",
    "os.chdir('/Users/khashayarzare/Desktop/bootcamp/challenge2/PyBank/Resources')\n",
    "with open('budget_data.csv', 'rb') as b:\n",
    "\n",
    "    bud_reader= pd.read_csv(b)\n",
    "\n",
    "    bud_reader.head()\n",
    "\n",
    "    bud_reader.tail()\n",
    "\n",
    "    bud_reader.describe()\n",
    "\n",
    "    date= bud_reader['d']\n",
    "\n",
    "    profit=bud_reader['Profit/Losses']\n",
    "\n",
    "    print(np.max(profit))\n",
    "\n",
    "    print(np.average(profit))\n",
    "\n",
    "    #matplotlib really useful for visualization \n",
    "\n",
    "#1170593\n",
    "#446309.0465116279\n",
    "\n",
    "    avg_month= np.average(profit)\n",
    "\n",
    "    total_π= avg_month* 86\n",
    "\n",
    "    bud_reader.info()\n",
    "\n"
   ]
  },
  {
   "cell_type": "code",
   "execution_count": 6,
   "id": "a2ce8448",
   "metadata": {},
   "outputs": [
    {
     "data": {
      "text/plain": [
       "'/Users/khashayarzare/Desktop/bootcamp/challenge2/PyBank/Resources'"
      ]
     },
     "execution_count": 6,
     "metadata": {},
     "output_type": "execute_result"
    }
   ],
   "source": [
    "os.getcwd()"
   ]
  },
  {
   "cell_type": "code",
   "execution_count": 3,
   "id": "aa96199a",
   "metadata": {},
   "outputs": [],
   "source": [
    "os.chdir('/Users/khashayarzare/Desktop/bootcamp/challenge2/PyBank/Resources')"
   ]
  },
  {
   "cell_type": "code",
   "execution_count": 7,
   "id": "aa6afbd8",
   "metadata": {},
   "outputs": [
    {
     "name": "stdout",
     "output_type": "stream",
     "text": [
      "1170593\n",
      "446309.0465116279\n",
      "<class 'pandas.core.frame.DataFrame'>\n",
      "RangeIndex: 86 entries, 0 to 85\n",
      "Data columns (total 2 columns):\n",
      " #   Column         Non-Null Count  Dtype \n",
      "---  ------         --------------  ----- \n",
      " 0   d              86 non-null     object\n",
      " 1   Profit/Losses  86 non-null     int64 \n",
      "dtypes: int64(1), object(1)\n",
      "memory usage: 1.5+ KB\n"
     ]
    }
   ],
   "source": [
    "with open('budget_data.csv', 'r') as b:\n",
    "\n",
    "    bud_reader= pd.read_csv(b)\n",
    "\n",
    "    bud_reader.head()\n",
    "\n",
    "    bud_reader.tail()\n",
    "\n",
    "    bud_reader.describe()\n",
    "\n",
    "    date= bud_reader['d']\n",
    "\n",
    "    profit=bud_reader['Profit/Losses']\n",
    "\n",
    "    print(np.max(profit))\n",
    "\n",
    "    print(np.average(profit))\n",
    "\n",
    "    #matplotlib really useful for visualization \n",
    "\n",
    "#1170593\n",
    "#446309.0465116279\n",
    "\n",
    "    avg_month= np.average(profit)\n",
    "\n",
    "    total_π= avg_month* 86\n",
    "\n",
    "    bud_reader.info()\n",
    "\n"
   ]
  },
  {
   "cell_type": "code",
   "execution_count": 5,
   "id": "a3717220",
   "metadata": {},
   "outputs": [],
   "source": [
    "import numpy as np"
   ]
  },
  {
   "cell_type": "code",
   "execution_count": 6,
   "id": "d0a09eb2",
   "metadata": {},
   "outputs": [
    {
     "name": "stdout",
     "output_type": "stream",
     "text": [
      "1170593\n",
      "446309.0465116279\n",
      "<class 'pandas.core.frame.DataFrame'>\n",
      "RangeIndex: 86 entries, 0 to 85\n",
      "Data columns (total 2 columns):\n",
      " #   Column         Non-Null Count  Dtype \n",
      "---  ------         --------------  ----- \n",
      " 0   d              86 non-null     object\n",
      " 1   Profit/Losses  86 non-null     int64 \n",
      "dtypes: int64(1), object(1)\n",
      "memory usage: 1.5+ KB\n"
     ]
    }
   ],
   "source": [
    "with open('budget_data.csv', 'r') as b:\n",
    "\n",
    "    bud_reader= pd.read_csv(b)\n",
    "\n",
    "    bud_reader.head()\n",
    "\n",
    "    bud_reader.tail()\n",
    "\n",
    "    bud_reader.describe()\n",
    "\n",
    "    date= bud_reader['d']\n",
    "\n",
    "    profit=bud_reader['Profit/Losses']\n",
    "\n",
    "    print(np.max(profit))\n",
    "\n",
    "    print(np.average(profit))\n",
    "\n",
    "    #matplotlib really useful for visualization \n",
    "\n",
    "#1170593\n",
    "#446309.0465116279\n",
    "\n",
    "    avg_month= np.average(profit)\n",
    "\n",
    "    total_π= avg_month* 86\n",
    "\n",
    "    bud_reader.info()"
   ]
  },
  {
   "cell_type": "code",
   "execution_count": 74,
   "id": "0c946b45",
   "metadata": {},
   "outputs": [
    {
     "ename": "SyntaxError",
     "evalue": "invalid syntax (3824529336.py, line 3)",
     "output_type": "error",
     "traceback": [
      "\u001b[0;36m  Input \u001b[0;32mIn [74]\u001b[0;36m\u001b[0m\n\u001b[0;31m    print( f'total months: ' {months} )\u001b[0m\n\u001b[0m                             ^\u001b[0m\n\u001b[0;31mSyntaxError\u001b[0m\u001b[0;31m:\u001b[0m invalid syntax\n"
     ]
    }
   ],
   "source": [
    "print('Financial Analysis')\n",
    "print('-----------------------')\n",
    "print( f'total months: ' {months} )"
   ]
  },
  {
   "cell_type": "code",
   "execution_count": 8,
   "id": "d3d1bbb8",
   "metadata": {},
   "outputs": [],
   "source": [
    "months= len(bud_reader['d'])"
   ]
  },
  {
   "cell_type": "code",
   "execution_count": 9,
   "id": "b880d7c9",
   "metadata": {},
   "outputs": [
    {
     "name": "stdout",
     "output_type": "stream",
     "text": [
      "86\n"
     ]
    }
   ],
   "source": [
    "print(months)"
   ]
  },
  {
   "cell_type": "code",
   "execution_count": 14,
   "id": "b19bd382",
   "metadata": {},
   "outputs": [
    {
     "name": "stdout",
     "output_type": "stream",
     "text": [
      "Financial Analysis\n",
      "-----------------------\n",
      "total months:  86\n"
     ]
    }
   ],
   "source": [
    "print('Financial Analysis')\n",
    "print('-----------------------')\n",
    "print( f'total months: ', months )"
   ]
  },
  {
   "cell_type": "code",
   "execution_count": 15,
   "id": "9cfe33c0",
   "metadata": {},
   "outputs": [],
   "source": [
    "rows=[]\n",
    "for row in bud_reader['Profit/Losses']:\n",
    "    rows.append(row)\n",
    "    "
   ]
  },
  {
   "cell_type": "code",
   "execution_count": 20,
   "id": "8b5dd940",
   "metadata": {},
   "outputs": [],
   "source": [
    "profit_totes= sum(rows)"
   ]
  },
  {
   "cell_type": "code",
   "execution_count": 21,
   "id": "091625eb",
   "metadata": {},
   "outputs": [
    {
     "name": "stdout",
     "output_type": "stream",
     "text": [
      "38382578\n"
     ]
    }
   ],
   "source": [
    "print(profit_totes)"
   ]
  },
  {
   "cell_type": "code",
   "execution_count": 25,
   "id": "03b56908",
   "metadata": {},
   "outputs": [
    {
     "name": "stdout",
     "output_type": "stream",
     "text": [
      "Total:  38382578\n"
     ]
    }
   ],
   "source": [
    "print(f'Total: ', profit_totes)"
   ]
  },
  {
   "cell_type": "markdown",
   "id": "2d124e8f",
   "metadata": {},
   "source": [
    "## "
   ]
  },
  {
   "cell_type": "code",
   "execution_count": null,
   "id": "c791e822",
   "metadata": {},
   "outputs": [],
   "source": []
  },
  {
   "cell_type": "code",
   "execution_count": 24,
   "id": "a5168a7b",
   "metadata": {},
   "outputs": [
    {
     "name": "stdout",
     "output_type": "stream",
     "text": [
      "446309.0465116279\n"
     ]
    }
   ],
   "source": [
    "print(avg_month)"
   ]
  },
  {
   "cell_type": "code",
   "execution_count": 9,
   "id": "51d330f4",
   "metadata": {},
   "outputs": [
    {
     "data": {
      "text/html": [
       "<div>\n",
       "<style scoped>\n",
       "    .dataframe tbody tr th:only-of-type {\n",
       "        vertical-align: middle;\n",
       "    }\n",
       "\n",
       "    .dataframe tbody tr th {\n",
       "        vertical-align: top;\n",
       "    }\n",
       "\n",
       "    .dataframe thead th {\n",
       "        text-align: right;\n",
       "    }\n",
       "</style>\n",
       "<table border=\"1\" class=\"dataframe\">\n",
       "  <thead>\n",
       "    <tr style=\"text-align: right;\">\n",
       "      <th></th>\n",
       "      <th>d</th>\n",
       "      <th>Profit/Losses</th>\n",
       "    </tr>\n",
       "  </thead>\n",
       "  <tbody>\n",
       "    <tr>\n",
       "      <th>0</th>\n",
       "      <td>10-Jan</td>\n",
       "      <td>867884</td>\n",
       "    </tr>\n",
       "    <tr>\n",
       "      <th>1</th>\n",
       "      <td>10-Feb</td>\n",
       "      <td>984655</td>\n",
       "    </tr>\n",
       "    <tr>\n",
       "      <th>2</th>\n",
       "      <td>10-Mar</td>\n",
       "      <td>322013</td>\n",
       "    </tr>\n",
       "    <tr>\n",
       "      <th>3</th>\n",
       "      <td>10-Apr</td>\n",
       "      <td>-69417</td>\n",
       "    </tr>\n",
       "    <tr>\n",
       "      <th>4</th>\n",
       "      <td>10-May</td>\n",
       "      <td>310503</td>\n",
       "    </tr>\n",
       "    <tr>\n",
       "      <th>5</th>\n",
       "      <td>10-Jun</td>\n",
       "      <td>522857</td>\n",
       "    </tr>\n",
       "    <tr>\n",
       "      <th>6</th>\n",
       "      <td>10-Jul</td>\n",
       "      <td>1033096</td>\n",
       "    </tr>\n",
       "    <tr>\n",
       "      <th>7</th>\n",
       "      <td>10-Aug</td>\n",
       "      <td>604885</td>\n",
       "    </tr>\n",
       "    <tr>\n",
       "      <th>8</th>\n",
       "      <td>10-Sep</td>\n",
       "      <td>-216386</td>\n",
       "    </tr>\n",
       "    <tr>\n",
       "      <th>9</th>\n",
       "      <td>10-Oct</td>\n",
       "      <td>477532</td>\n",
       "    </tr>\n",
       "  </tbody>\n",
       "</table>\n",
       "</div>"
      ],
      "text/plain": [
       "        d  Profit/Losses\n",
       "0  10-Jan         867884\n",
       "1  10-Feb         984655\n",
       "2  10-Mar         322013\n",
       "3  10-Apr         -69417\n",
       "4  10-May         310503\n",
       "5  10-Jun         522857\n",
       "6  10-Jul        1033096\n",
       "7  10-Aug         604885\n",
       "8  10-Sep        -216386\n",
       "9  10-Oct         477532"
      ]
     },
     "execution_count": 9,
     "metadata": {},
     "output_type": "execute_result"
    }
   ],
   "source": [
    "bud_reader.head(10)"
   ]
  },
  {
   "cell_type": "code",
   "execution_count": 26,
   "id": "b879aea5",
   "metadata": {},
   "outputs": [
    {
     "name": "stdout",
     "output_type": "stream",
     "text": [
      "[867884, 984655, 322013, -69417, 310503, 522857, 1033096, 604885, -216386, 477532, 893810, -80353, 779806, -335203, 697845, 793163, 485070, 584122, 62729, 668179, 899906, 834719, 132003, 309978, -755566, 1170593, 252788, 1151518, 817256, 570757, 506702, -1022534, 475062, 779976, 144175, 542494, 359333, 321469, 67780, 471435, 565603, 872480, 789480, 999942, -1196225, 268997, -687986, 1150461, 682458, 617856, 824098, 581943, 132864, 448062, 689161, 800701, 1166643, 947333, 578668, 988505, 1139715, 1029471, 687533, -524626, 158620, 87795, 423389, 840723, 568529, 332067, 989499, 778237, 650000, -1100387, -174946, 757143, 445709, 712961, -1163797, 569899, 768450, 102685, 795914, 60988, 138230, 671099]\n",
      "86\n"
     ]
    }
   ],
   "source": [
    "rows=[]\n",
    "for row in bud_reader['Profit/Losses']:\n",
    "    rows.append(row)\n",
    "print(rows)\n",
    "print(len(rows))"
   ]
  },
  {
   "cell_type": "code",
   "execution_count": 41,
   "id": "ed07734e",
   "metadata": {},
   "outputs": [],
   "source": [
    "diff=[]\n",
    "for r in range((len(rows))-1): \n",
    "    dif= rows[(r+1)]- rows[(r)]\n",
    "    diff.append(dif)"
   ]
  },
  {
   "cell_type": "code",
   "execution_count": 42,
   "id": "45cd8e08",
   "metadata": {},
   "outputs": [
    {
     "name": "stdout",
     "output_type": "stream",
     "text": [
      "867884\n"
     ]
    }
   ],
   "source": [
    "print(rows[0])"
   ]
  },
  {
   "cell_type": "code",
   "execution_count": 43,
   "id": "ade5777b",
   "metadata": {},
   "outputs": [
    {
     "name": "stdout",
     "output_type": "stream",
     "text": [
      "[116771, -662642, -391430, 379920, 212354, 510239, -428211, -821271, 693918, 416278, -974163, 860159, -1115009, 1033048, 95318, -308093, 99052, -521393, 605450, 231727, -65187, -702716, 177975, -1065544, 1926159, -917805, 898730, -334262, -246499, -64055, -1529236, 1497596, 304914, -635801, 398319, -183161, -37864, -253689, 403655, 94168, 306877, -83000, 210462, -2196167, 1465222, -956983, 1838447, -468003, -64602, 206242, -242155, -449079, 315198, 241099, 111540, 365942, -219310, -368665, 409837, 151210, -110244, -341938, -1212159, 683246, -70825, 335594, 417334, -272194, -236462, 657432, -211262, -128237, -1750387, 925441, 932089, -311434, 267252, -1876758, 1733696, 198551, -665765, 693229, -734926, 77242, 532869]\n"
     ]
    }
   ],
   "source": [
    "print(diff)"
   ]
  },
  {
   "cell_type": "code",
   "execution_count": 46,
   "id": "750faade",
   "metadata": {},
   "outputs": [
    {
     "name": "stdout",
     "output_type": "stream",
     "text": [
      "-2315.12\n"
     ]
    }
   ],
   "source": [
    "change_average=round(sum(diff)/ 85, 2)\n",
    "print(change_average)"
   ]
  },
  {
   "cell_type": "code",
   "execution_count": 47,
   "id": "8333392c",
   "metadata": {},
   "outputs": [
    {
     "name": "stdout",
     "output_type": "stream",
     "text": [
      "The average change in Profit/Losses -2315.12\n"
     ]
    }
   ],
   "source": [
    "print('The average change in Profit/Losses', change_average)"
   ]
  },
  {
   "cell_type": "code",
   "execution_count": 48,
   "id": "0072bb4a",
   "metadata": {},
   "outputs": [
    {
     "name": "stdout",
     "output_type": "stream",
     "text": [
      "1926159\n"
     ]
    }
   ],
   "source": [
    "profit= print(max(diff))"
   ]
  },
  {
   "cell_type": "code",
   "execution_count": 49,
   "id": "711204f2",
   "metadata": {},
   "outputs": [
    {
     "name": "stdout",
     "output_type": "stream",
     "text": [
      "-2196167\n"
     ]
    }
   ],
   "source": [
    "loss= print(min(diff))"
   ]
  },
  {
   "cell_type": "code",
   "execution_count": 63,
   "id": "445d5e26",
   "metadata": {},
   "outputs": [
    {
     "name": "stdout",
     "output_type": "stream",
     "text": [
      "24\n",
      "43\n"
     ]
    }
   ],
   "source": [
    "\n",
    "    for i in diff:\n",
    "        if i == 1926159:\n",
    "            index= diff.index(i)\n",
    "            print(index)\n",
    "        elif i== -2196167:\n",
    "            index= diff.index(i)\n",
    "            print(index)\n",
    "        else:pass\n",
    "        \n",
    "# add 1 to the indexes to makeup for them starting at 0"
   ]
  },
  {
   "cell_type": "code",
   "execution_count": 71,
   "id": "dcb3e697",
   "metadata": {},
   "outputs": [
    {
     "name": "stdout",
     "output_type": "stream",
     "text": [
      "1926159\n"
     ]
    }
   ],
   "source": [
    "profits= print(max(diff))"
   ]
  },
  {
   "cell_type": "code",
   "execution_count": 73,
   "id": "0114b506",
   "metadata": {},
   "outputs": [
    {
     "name": "stdout",
     "output_type": "stream",
     "text": [
      "1926159\n",
      "-2196167\n",
      "Greatest increase in Profits: 12-Feb ($ None )\n",
      "Greatest Decrease in Profits: 13-Sep ($ None )\n"
     ]
    }
   ],
   "source": [
    "profits= print(max(diff))\n",
    "losses = print(min(diff))\n",
    "\n",
    "inc_date= bud_reader['d'][25]\n",
    "dec_date= bud_reader['d'][44]\n",
    "\n",
    "print('Greatest increase in Profits:', inc_date, '($',profit,')')\n",
    "print('Greatest Decrease in Profits:', dec_date, '($',loss,')')"
   ]
  },
  {
   "cell_type": "code",
   "execution_count": 72,
   "id": "4394e469",
   "metadata": {},
   "outputs": [
    {
     "name": "stdout",
     "output_type": "stream",
     "text": [
      "Greatest increase in Profits: 12-Feb ($ None )\n",
      "Greatest Decrease in Profits: 13-Sep ($ None )\n"
     ]
    }
   ],
   "source": [
    "print('Greatest increase in Profits:', inc_date, '($', profits,')')\n",
    "print('Greatest Decrease in Profits:', dec_date, '($', losses,')')"
   ]
  },
  {
   "cell_type": "code",
   "execution_count": null,
   "id": "33fceb70",
   "metadata": {},
   "outputs": [],
   "source": []
  }
 ],
 "metadata": {
  "kernelspec": {
   "display_name": "Python 3 (ipykernel)",
   "language": "python",
   "name": "python3"
  },
  "language_info": {
   "codemirror_mode": {
    "name": "ipython",
    "version": 3
   },
   "file_extension": ".py",
   "mimetype": "text/x-python",
   "name": "python",
   "nbconvert_exporter": "python",
   "pygments_lexer": "ipython3",
   "version": "3.9.12"
  }
 },
 "nbformat": 4,
 "nbformat_minor": 5
}
